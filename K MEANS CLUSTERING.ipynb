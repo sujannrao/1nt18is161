{
 "cells": [
  {
   "cell_type": "code",
   "execution_count": 29,
   "metadata": {},
   "outputs": [],
   "source": [
    "X = [\n",
    "    [5.9, 3.2],\n",
    "    [4.6, 2.9],\n",
    "    [6.2, 2.8],\n",
    "    [4.7, 3.2],\n",
    "    [5.5, 4.2],\n",
    "    [5.0, 3.0],\n",
    "    [4.9, 3.1],\n",
    "    [6.7, 3.1],\n",
    "    [5.1, 3.8],\n",
    "    [6.0, 3.0]\n",
    "]"
   ]
  },
  {
   "cell_type": "code",
   "execution_count": 30,
   "metadata": {},
   "outputs": [],
   "source": [
    "centroids = [\n",
    "    [6.2, 3.2], [6.6, 3.7], [6.5, 3.0]\n",
    "]\n",
    "\n",
    "clusters= {}"
   ]
  },
  {
   "cell_type": "code",
   "execution_count": 31,
   "metadata": {},
   "outputs": [],
   "source": [
    "def euc_dist(x1, x2, y1, y2):\n",
    "    \n",
    "    #Returns the euclidean distance between the given points.\n",
    "    \n",
    "    res = (((x2 - x1) ** 2) + ((y2 - y1) ** 2)) ** 0.5\n",
    "    return res"
   ]
  },
  {
   "cell_type": "code",
   "execution_count": null,
   "metadata": {},
   "outputs": [],
   "source": [
    "# def k_means(X, centroids, clusters, k=4):\n",
    "    \n",
    "    #Assigns each point in X to a centroid in centroids populating the clusters dictionary.\n",
    "    \n",
    "    for i in range(k):\n",
    "        clusters[i] = []\n",
    "\n",
    "    for i, _ in enumerate(X):\n",
    "        dist = []\n",
    "\n",
    "        for j in range(k):\n",
    "            dist.append(euc_dist(centroids[j][0], X[i][0], centroids[j][1], X[i][1]))\n",
    "\n",
    "        centroid_ind = dist.index(min(dist))\n",
    "        clusters[centroid_ind].append(X[i])\n",
    "\n",
    "    return clusters"
   ]
  },
  {
   "cell_type": "code",
   "execution_count": 33,
   "metadata": {},
   "outputs": [],
   "source": [
    "def new_centroids(X, centroids, clusters, k=4):\n",
    "    \n",
    "    #Forms new centroids using average of all points in the cluster.\n",
    "    \n",
    "    for i in range(k):\n",
    "        x_sum = sum([n[0] for n in clusters[i]])\n",
    "        y_sum = sum([n[1] for n in clusters[i]])\n",
    "\n",
    "        centroids[i] = [round(x_sum / len(clusters[i]), 3), round(y_sum / len(clusters[i]), 3)]\n",
    "\n",
    "    return centroids"
   ]
  },
  {
   "cell_type": "code",
   "execution_count": 34,
   "metadata": {},
   "outputs": [
    {
     "name": "stdout",
     "output_type": "stream",
     "text": [
      "Centroids during iteration 1: [[5.171, 3.171], [5.5, 4.2], [6.45, 2.95]]\n",
      "Centre of the first cluster after 1 iteration: [5.171, 3.171]\n",
      "\n",
      "Centroids during iteration 2: [[4.8, 3.05], [5.3, 4.0], [6.2, 3.025]]\n",
      "Centre of the second cluster after 2 iterations: [5.3, 4.0]\n",
      "\n",
      "Centroids during iteration 3: [[4.8, 3.05], [5.3, 4.0], [6.2, 3.025]]\n",
      "Centroids during iteration 4: [[4.8, 3.05], [5.3, 4.0], [6.2, 3.025]]\n",
      "Centroids during iteration 5: [[4.8, 3.05], [5.3, 4.0], [6.2, 3.025]]\n",
      "Centroids during iteration 6: [[4.8, 3.05], [5.3, 4.0], [6.2, 3.025]]\n"
     ]
    }
   ],
   "source": [
    "for i in range(6):\n",
    "    clusters = k_means(X, centroids=centroids, clusters=clusters, k=3)\n",
    "    centroids = new_centroids(X, centroids=centroids, clusters=clusters, k=3)\n",
    "\n",
    "    print(f\"Centroids during iteration {i+1}: {centroids}\")\n",
    "    if i == 0:\n",
    "        print(f\"Centre of the first cluster after 1 iteration: {centroids[0]}\\n\")\n",
    "    elif i == 1:\n",
    "        print(f\"Centre of the second cluster after 2 iterations: {centroids[1]}\\n\")"
   ]
  },
  {
   "cell_type": "code",
   "execution_count": 35,
   "metadata": {},
   "outputs": [
    {
     "name": "stdout",
     "output_type": "stream",
     "text": [
      "Centre of the third cluster after it converges: [6.2, 3.025]\n"
     ]
    }
   ],
   "source": [
    "print(f\"Centre of the third cluster after it converges: {centroids[2]}\")"
   ]
  },
  {
   "cell_type": "code",
   "execution_count": 36,
   "metadata": {},
   "outputs": [
    {
     "name": "stdout",
     "output_type": "stream",
     "text": [
      "Observing the values found in the previous iterations, the number of iterations required is 3\n"
     ]
    }
   ],
   "source": [
    "print(\"Observing the values found in the previous iterations, the number of iterations required is 3\")"
   ]
  },
  {
   "cell_type": "code",
   "execution_count": null,
   "metadata": {},
   "outputs": [],
   "source": []
  }
 ],
 "metadata": {
  "kernelspec": {
   "display_name": "Python 3",
   "language": "python",
   "name": "python3"
  },
  "language_info": {
   "codemirror_mode": {
    "name": "ipython",
    "version": 3
   },
   "file_extension": ".py",
   "mimetype": "text/x-python",
   "name": "python",
   "nbconvert_exporter": "python",
   "pygments_lexer": "ipython3",
   "version": "3.8.5"
  }
 },
 "nbformat": 4,
 "nbformat_minor": 4
}
