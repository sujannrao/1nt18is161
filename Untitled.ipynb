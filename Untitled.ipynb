{
 "cells": [
  {
   "cell_type": "code",
   "execution_count": 31,
   "metadata": {},
   "outputs": [
    {
     "name": "stdout",
     "output_type": "stream",
     "text": [
      "Data =  [[15.11218446  9.74181105  5.26221838  9.63567781]]\n",
      "Normalized Data =  [[0.71733939 0.46242056 0.24978497 0.45738267]]\n"
     ]
    }
   ],
   "source": [
    "from sklearn import preprocessing\n",
    "import numpy as np\n",
    "a = np.random.random((1, 4))\n",
    "a = a*20\n",
    "print(\"Data = \", a)\n",
    "normalized = preprocessing.normalize(a)\n",
    "print(\"Normalized Data = \", normalized)"
   ]
  },
  {
   "cell_type": "code",
   "execution_count": 40,
   "metadata": {},
   "outputs": [
    {
     "name": "stdout",
     "output_type": "stream",
     "text": [
      "2.9166666666666665\n",
      "1.707825127659933\n",
      "standardisation= [-1.4638501094227998, -0.8783100656536799, -0.29277002188455997, 0.29277002188455997, 0.8783100656536799, 1.4638501094227998]\n"
     ]
    }
   ],
   "source": [
    "import math\n",
    "data = [1,2,3,4,5,6]\n",
    "n = len(data)\n",
    "mean = sum(data) / n\n",
    "deviations = [(x - mean) ** 2 for x in data]\n",
    "variance = sum(deviations) / n\n",
    "print(variance)\n",
    "std_dev = math.sqrt(variance)\n",
    "print(std_dev)\n",
    "st = [(x-mean)/std_dev for x in data]\n",
    "print(\"standardisation=\",st)\n"
   ]
  },
  {
   "cell_type": "code",
   "execution_count": 39,
   "metadata": {},
   "outputs": [
    {
     "name": "stdout",
     "output_type": "stream",
     "text": [
      "0.0\n",
      "0.2\n",
      "0.4\n",
      "0.6\n",
      "0.8\n",
      "1.0\n"
     ]
    }
   ],
   "source": [
    "a = [2,3,4,5,6,7]\n",
    "xmin = min(a)\n",
    "xmax = max(a)\n",
    "for i,x in enumerate(a):\n",
    "    a[i] =((x-xmin) / (xmax-xmin))\n",
    "    print(a[i])"
   ]
  },
  {
   "cell_type": "code",
   "execution_count": null,
   "metadata": {},
   "outputs": [],
   "source": []
  },
  {
   "cell_type": "code",
   "execution_count": null,
   "metadata": {},
   "outputs": [],
   "source": []
  }
 ],
 "metadata": {
  "kernelspec": {
   "display_name": "Python 3",
   "language": "python",
   "name": "python3"
  },
  "language_info": {
   "codemirror_mode": {
    "name": "ipython",
    "version": 3
   },
   "file_extension": ".py",
   "mimetype": "text/x-python",
   "name": "python",
   "nbconvert_exporter": "python",
   "pygments_lexer": "ipython3",
   "version": "3.8.5"
  }
 },
 "nbformat": 4,
 "nbformat_minor": 4
}
